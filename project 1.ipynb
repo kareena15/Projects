{
 "cells": [
  {
   "cell_type": "markdown",
   "id": "875d01bb",
   "metadata": {},
   "source": [
    "# TO-DO LIST"
   ]
  },
  {
   "cell_type": "code",
   "execution_count": null,
   "id": "5788101a",
   "metadata": {},
   "outputs": [],
   "source": [
    "tasks = []\n",
    "\n",
    "def add_task(task):\n",
    "    tasks.append(task)\n",
    "    print(f\"Task '{task}' added.\")\n",
    "\n",
    "def view_tasks():\n",
    "    if not tasks:\n",
    "        print(\"No tasks to display.\")\n",
    "    else:\n",
    "        print(\"Tasks:\")\n",
    "        for i, task in enumerate(tasks, 1):\n",
    "            print(f\"{i}. {task}\")\n",
    "\n",
    "def remove_task(task_number):\n",
    "    if 1 <= task_number <= len(tasks):\n",
    "        removed_task = tasks.pop(task_number - 1)\n",
    "        print(f\"Task '{removed_task}' removed.\")\n",
    "    else:\n",
    "        print(\"Invalid task number.\")\n",
    "\n",
    "while True:\n",
    "    print(\"\\nTo-Do List Menu:\")\n",
    "    print(\"1. Add Task\")\n",
    "    print(\"2. View Tasks\")\n",
    "    print(\"3. Remove Task\")\n",
    "    print(\"4. Quit\")\n",
    "    choice = input(\"Enter your choice (1/2/3/4): \")\n",
    "\n",
    "    if choice == \"1\":\n",
    "        task = input(\"Enter the task: \")\n",
    "        add_task(task)\n",
    "    elif choice == \"2\":\n",
    "        view_tasks()\n",
    "    elif choice == \"3\":\n",
    "        view_tasks()\n",
    "        task_number = int(input(\"Enter the task number to remove: \"))\n",
    "        remove_task(task_number)\n",
    "    elif choice == \"4\":\n",
    "        print(\"Goodbye!\")\n",
    "        break\n",
    "    else:\n",
    "        print(\"Invalid choice. Please choose 1, 2, 3, or 4.\")            "
   ]
  },
  {
   "cell_type": "code",
   "execution_count": null,
   "id": "3e1c390b",
   "metadata": {},
   "outputs": [],
   "source": []
  }
 ],
 "metadata": {
  "kernelspec": {
   "display_name": "Python 3 (ipykernel)",
   "language": "python",
   "name": "python3"
  },
  "language_info": {
   "codemirror_mode": {
    "name": "ipython",
    "version": 3
   },
   "file_extension": ".py",
   "mimetype": "text/x-python",
   "name": "python",
   "nbconvert_exporter": "python",
   "pygments_lexer": "ipython3",
   "version": "3.11.5"
  }
 },
 "nbformat": 4,
 "nbformat_minor": 5
}
